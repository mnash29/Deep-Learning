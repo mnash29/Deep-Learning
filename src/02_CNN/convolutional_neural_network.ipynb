{
 "cells": [
  {
   "cell_type": "markdown",
   "metadata": {},
   "source": [
    "# Convolutional Neural Networks"
   ]
  },
  {
   "cell_type": "markdown",
   "metadata": {
    "vscode": {
     "languageId": "plaintext"
    }
   },
   "source": [
    "1. Apply **convolution** operation\n",
    "   * Formula (f * g)(t) = ∫f(𝜏)g(t - 𝜏)d𝜏\n",
    "   * Take input image and apply `feature detector` (3x3 matrix) to output a `feature map`\n",
    "   * There are many different `feature detectors` to achieve different kinds of map. Most important being the edge detector\n",
    "\n",
    "Edge Detector\n",
    "| 0 | 1 | 2 | 3 | 4 |\n",
    "| -- | -- | -- | -- | -- |\n",
    "| _ | _ | _ | _ | _ | \n",
    "| _ | 0 | 1 | 0 | _ |\n",
    "| _ | 1 | -4 | 1 | _ |\n",
    "| _ | 0 | 1 | 0 | _ |\n",
    "| _ | _ | _ | _ | _ | \n",
    "\n",
    "2. Use different `feature detectors` to build many `feature maps` with in the conv layer\n",
    "3. Apply **rectifier function**, rectified linear unit (`ReLU`), to increase non-linearity within the image and break up transitions between pixels, border, colors, etc.\n",
    "4. Apply `max pooling` to acquire `spatial variance` and account for any distortions or texture differenecs between key features in image samples\n",
    "5. `flatten` the pooling layer to create the input layer of the `ANN`\n",
    "6. Add the input layer to a fully connected layer (ANN)"
   ]
  },
  {
   "cell_type": "markdown",
   "metadata": {},
   "source": [
    "### Softmax and Cross-Entropy"
   ]
  },
  {
   "cell_type": "markdown",
   "metadata": {},
   "source": [
    "1. Softmax formula ƒj(z) = e^zj / ∑k * e^zk\n",
    "2. Cross-entropy H(p,q) = -∑p(x) * logq(x)\n",
    "    * loss function applied after softmax"
   ]
  },
  {
   "cell_type": "markdown",
   "metadata": {},
   "source": [
    "## Data Preprocessing"
   ]
  },
  {
   "cell_type": "code",
   "execution_count": 2,
   "metadata": {},
   "outputs": [],
   "source": [
    "from os.path import dirname, abspath, join, curdir\n",
    "\n",
    "import tensorflow as tf\n",
    "from keras.preprocessing.image import ImageDataGenerator"
   ]
  },
  {
   "cell_type": "code",
   "execution_count": 3,
   "metadata": {},
   "outputs": [
    {
     "data": {
      "text/plain": [
       "'2.13.0'"
      ]
     },
     "execution_count": 3,
     "metadata": {},
     "output_type": "execute_result"
    }
   ],
   "source": [
    "tf.__version__"
   ]
  },
  {
   "cell_type": "code",
   "execution_count": 4,
   "metadata": {},
   "outputs": [
    {
     "name": "stdout",
     "output_type": "stream",
     "text": [
      "Found 8048 images belonging to 2 classes.\n"
     ]
    }
   ],
   "source": [
    "trainpath = join(dirname(dirname(abspath(curdir))), \"data\", \"raw\", \"training_set\")\n",
    "testpath = join(dirname(dirname(abspath(curdir))), \"data\", \"raw\", \"test_set\")\n",
    "\n",
    "# Preprocess training set\n",
    "train_datagen = ImageDataGenerator(rescale=1./255, # feature scaling pixels\n",
    "                                   shear_range=0.2,\n",
    "                                   zoom_range=0.2,\n",
    "                                   horizontal_flip=True)\n",
    "\n",
    "train_generator = train_datagen.flow_from_directory(trainpath,\n",
    "                                                    target_size=(64, 64),\n",
    "                                                    batch_size=32,\n",
    "                                                    class_mode=\"binary\")"
   ]
  },
  {
   "cell_type": "code",
   "execution_count": 5,
   "metadata": {},
   "outputs": [
    {
     "name": "stdout",
     "output_type": "stream",
     "text": [
      "Found 2000 images belonging to 2 classes.\n"
     ]
    }
   ],
   "source": [
    "# Preprocess test set\n",
    "test_datagen = ImageDataGenerator(rescale=1./255)\n",
    "\n",
    "test_generator = test_datagen.flow_from_directory(testpath,\n",
    "                                                  target_size=(64, 64),\n",
    "                                                  batch_size=32,\n",
    "                                                  class_mode=\"binary\")"
   ]
  },
  {
   "cell_type": "markdown",
   "metadata": {},
   "source": [
    "## Building the CNN"
   ]
  },
  {
   "cell_type": "code",
   "execution_count": 8,
   "metadata": {},
   "outputs": [],
   "source": [
    "# Initialize the CNN\n",
    "from keras.layers import Conv2D, MaxPool2D, Dense\n",
    "\n",
    "cnn = tf.keras.models.Sequential()\n",
    "\n",
    "# Add the first convolution layer\n",
    "cnn.add(Conv2D(filters=32, \n",
    "               kernel_size=3, # 3x3 feature detector matrix \n",
    "               activation=\"relu\", \n",
    "               input_shape=(64, 64, 3))) # image size(64, 64) with color channels(3)\n",
    "\n",
    "# Add the first max pooling layer\n",
    "cnn.add(MaxPool2D(pool_size=(2, 2), strides=2))\n",
    "\n",
    "# Add second convolutional layer\n",
    "cnn.add(Conv2D(filters=32, \n",
    "               kernel_size=3,\n",
    "               activation=\"relu\"))\n",
    "\n",
    "# Add second max pooling layer\n",
    "cnn.add(MaxPool2D(pool_size=(2, 2), strides=2))"
   ]
  },
  {
   "cell_type": "code",
   "execution_count": 9,
   "metadata": {},
   "outputs": [],
   "source": [
    "# Flatten matrix to create input layer\n",
    "cnn.add(tf.keras.layers.Flatten())"
   ]
  },
  {
   "cell_type": "code",
   "execution_count": 10,
   "metadata": {},
   "outputs": [],
   "source": [
    "# Add fully connected layer\n",
    "cnn.add(Dense(units=128, activation=\"relu\"))"
   ]
  },
  {
   "cell_type": "code",
   "execution_count": 11,
   "metadata": {},
   "outputs": [],
   "source": [
    "# Add output layer\n",
    "cnn.add(Dense(units=1, activation=\"sigmoid\"))"
   ]
  },
  {
   "cell_type": "code",
   "execution_count": null,
   "metadata": {},
   "outputs": [],
   "source": []
  }
 ],
 "metadata": {
  "kernelspec": {
   "display_name": "machine-learning-py39",
   "language": "python",
   "name": "python3"
  },
  "language_info": {
   "codemirror_mode": {
    "name": "ipython",
    "version": 3
   },
   "file_extension": ".py",
   "mimetype": "text/x-python",
   "name": "python",
   "nbconvert_exporter": "python",
   "pygments_lexer": "ipython3",
   "version": "3.9.13"
  },
  "orig_nbformat": 4
 },
 "nbformat": 4,
 "nbformat_minor": 2
}
