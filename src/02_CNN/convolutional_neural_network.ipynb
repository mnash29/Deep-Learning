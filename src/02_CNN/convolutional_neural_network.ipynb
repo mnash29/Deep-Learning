{
 "cells": [
  {
   "cell_type": "markdown",
   "metadata": {},
   "source": [
    "# Convolutional Neural Networks"
   ]
  },
  {
   "cell_type": "markdown",
   "metadata": {
    "vscode": {
     "languageId": "plaintext"
    }
   },
   "source": [
    "1. Apply **convolution** operation\n",
    "   * Formula (f * g)(t) = ∫f(𝜏)g(t - 𝜏)d𝜏\n",
    "   * Take input image and apply `feature detector` (3x3 matrix) to output a `feature map`\n",
    "   * There are many different `feature detectors` to achieve different kinds of map. Most important being the edge detector\n",
    "\n",
    "Edge Detector\n",
    "| 0 | 1 | 2 | 3 | 4 |\n",
    "| -- | -- | -- | -- | -- |\n",
    "| _ | _ | _ | _ | _ | \n",
    "| _ | 0 | 1 | 0 | _ |\n",
    "| _ | 1 | -4 | 1 | _ |\n",
    "| _ | 0 | 1 | 0 | _ |\n",
    "| _ | _ | _ | _ | _ | \n",
    "\n",
    "2. Use different `feature detectors` to build many `feature maps` with in the conv layer\n",
    "3. Apply **rectifier function**, rectified linear unit (`ReLU`), to increase non-linearity within the image and break up transitions between pixels, border, colors, etc.\n",
    "4. Apply `max pooling` to acquire `spatial variance` and account for any distortions or texture differenecs between key features in image samples\n",
    "5. `flatten` the pooling layer to create the input layer of the `ANN`\n",
    "6. Add the input layer to a fully connected layer (ANN)"
   ]
  },
  {
   "cell_type": "markdown",
   "metadata": {},
   "source": [
    "### Softmax and Cross-Entropy"
   ]
  },
  {
   "cell_type": "markdown",
   "metadata": {},
   "source": [
    "1. Softmax formula ƒj(z) = e^zj / ∑k * e^zk\n",
    "2. Cross-entropy H(p,q) = -∑p(x) * logq(x)\n",
    "    * loss function applied after softmax"
   ]
  }
 ],
 "metadata": {
  "language_info": {
   "name": "python"
  },
  "orig_nbformat": 4
 },
 "nbformat": 4,
 "nbformat_minor": 2
}
