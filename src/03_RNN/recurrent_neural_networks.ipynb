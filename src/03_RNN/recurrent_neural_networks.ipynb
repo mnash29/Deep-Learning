{
 "cells": [
  {
   "cell_type": "markdown",
   "metadata": {},
   "source": [
    "# Recurrent Neural Networks"
   ]
  },
  {
   "cell_type": "markdown",
   "metadata": {},
   "source": [
    "* [Ultimate Guide to Recurrent Neural Networks](https://www.superdatascience.com/blogs/the-ultimate-guide-to-recurrent-neural-networks-rnn)\n",
    "* Used for `Time Series` data analysis\n",
    "* Weights like in ANNs represent long-term memory\n",
    "  * Similar to the temporal lobe of the brain\n",
    "* RNNs are like short-term memory\n",
    "  * Similar to the frontal lobe of the brain\n",
    "* Can be thought of as a ANN squashed together (or looking from another dimension) and inverted with a temporal loop with in the hidden layer\n",
    "  * Temporal loop meaning it feeds data back into itself in addition to the output\n",
    "  * Each blue circle representing a whole layer of neurons <img src=\"img/41_blog_image_10.png\">\n",
    "* Types of RNNs\n",
    "  * 1:Many - One input and many outputs\n",
    "    * e.g. An image input with a descriptive output of the image. \"black and white dog jumps over bar\"\n",
    "  * Many:1 - Many inputs and one output\n",
    "    * e.g. Sentiment analysis. \"Thanks for a great party!\" - positive score: 86%\n",
    "  * Many:Many - Many inputs to many outputs\n",
    "    * e.g. Google translator to maintain gender specific information\n",
    "    * e.g. Movie subtitles - need context to understand plot\n",
    "* `Vanishing gradient problem`\n",
    "  * As weights are updated backward through the network if the value (error) being applied to the weights (Wrec) is too small then the weights get too small to be relevant (vanishign) or if too big then the weights get too large (exploding) and invalidates the entire network\n",
    "* `Long short-term memory` (LSTM)\n",
    "  *  Solution to vanishing gradient problem <img src=\"img/41_blog_image_22.png\" >\n",
    "  *  pointwise operations are like valves (X) controlled by neural network layers\n",
    "     *  forget valve\n",
    "     *  memory valve\n",
    "     *  output valve\n",
    "  *  neural network layer\n",
    "     *  sigmoid\n",
    "     *  tanh\n",
    "  *  Variations\n",
    "     *  Peep-hole - adding additional information to neural network layers (sigmoid)\n",
    "     *  Combine decisioning between valves\n",
    "     *  Gated recurring units (GRUs)\n",
    "  *  Reading\n",
    "     *  [LSTM: A Search Space Odyssey](https://arxiv.org/pdf/1503.04069.pdf) by Klaus Greff et al. (2015) "
   ]
  },
  {
   "cell_type": "markdown",
   "metadata": {},
   "source": [
    "## A stacked LSTM model with Dropout Regularization"
   ]
  },
  {
   "cell_type": "code",
   "execution_count": 1,
   "metadata": {},
   "outputs": [],
   "source": [
    "from os.path import dirname, abspath, join, curdir\n",
    "\n",
    "import numpy as np\n",
    "import matplotlib.pyplot as plt\n",
    "import pandas as pd"
   ]
  },
  {
   "cell_type": "markdown",
   "metadata": {},
   "source": [
    "### Data preprocessing"
   ]
  },
  {
   "cell_type": "code",
   "execution_count": null,
   "metadata": {},
   "outputs": [],
   "source": [
    "# Get new ticker data if needed\n",
    "\n",
    "# import yfinance as yf\n",
    "# spy = yf.Ticker(\"SPY\")\n",
    "# spy.info\n",
    "\n",
    "# data = spy.history(period=\"10y\", interval=\"1d\")\n",
    "# data.drop([\"Dividends\", \"Stock Splits\", \"Capital Gains\"], inplace=True, axis=1)\n",
    "# data.to_csv(join(dirname(dirname(abspath(curdir))), \"data\", \"raw\", \"rnn\", \"spy_stock_prices_10y.csv\"))"
   ]
  },
  {
   "cell_type": "code",
   "execution_count": 2,
   "metadata": {},
   "outputs": [
    {
     "data": {
      "text/plain": [
       "(array([[140.77774359],\n",
       "        [142.46747874],\n",
       "        [141.88480495],\n",
       "        ...,\n",
       "        [459.01998901],\n",
       "        [455.88000488],\n",
       "        [457.41000366]]),\n",
       " (2486, 1))"
      ]
     },
     "execution_count": 2,
     "metadata": {},
     "output_type": "execute_result"
    }
   ],
   "source": [
    "# Import the training set\n",
    "datapath = join(dirname(dirname(abspath(curdir))), \"data\", \"raw\", \"rnn\")\n",
    "\n",
    "dataset_train = pd.read_csv(join(datapath, \"spy_stock_prices_10y.csv\"))\n",
    "train_set = dataset_train.iloc[:, 1:2].values\n",
    "train_set, train_set.shape"
   ]
  },
  {
   "cell_type": "code",
   "execution_count": 3,
   "metadata": {},
   "outputs": [
    {
     "data": {
      "text/plain": [
       "(array([[0.00637331],\n",
       "        [0.01150368],\n",
       "        [0.00973456],\n",
       "        ...,\n",
       "        [0.97261928],\n",
       "        [0.96308567],\n",
       "        [0.96773104]]),\n",
       " 2486)"
      ]
     },
     "execution_count": 3,
     "metadata": {},
     "output_type": "execute_result"
    }
   ],
   "source": [
    "# Apply recommended normalization scaling\n",
    "from sklearn.preprocessing import MinMaxScaler\n",
    "\n",
    "sc = MinMaxScaler(feature_range=(0, 1), copy=True)\n",
    "train_set_scaled = sc.fit_transform(train_set) # Fit with data min/max then transforms\n",
    "train_set_scaled, train_set_scaled.size"
   ]
  },
  {
   "cell_type": "code",
   "execution_count": 4,
   "metadata": {},
   "outputs": [],
   "source": [
    "# Create data structure with 60 timesteps (past info) and 1 output\n",
    "X_train = []\n",
    "y_train = []\n",
    "\n",
    "for i in range(60, train_set_scaled.size):\n",
    "    X_train.append(train_set_scaled[i-60:i, 0])\n",
    "    y_train.append(train_set_scaled[i, 0])\n",
    "\n",
    "X_train, y_train = np.array(X_train), np.array(y_train)"
   ]
  },
  {
   "cell_type": "code",
   "execution_count": 5,
   "metadata": {},
   "outputs": [
    {
     "data": {
      "text/plain": [
       "array([[0.00637331, 0.01150368, 0.00973456, ..., 0.033776  , 0.03456326,\n",
       "        0.03776281],\n",
       "       [0.01150368, 0.00973456, 0.01112449, ..., 0.03456326, 0.03776281,\n",
       "        0.03979455],\n",
       "       [0.00973456, 0.01112449, 0.01746783, ..., 0.03776281, 0.03979455,\n",
       "        0.03855025],\n",
       "       ...,\n",
       "       [0.8357245 , 0.83360705, 0.82329193, ..., 0.95546478, 0.95713475,\n",
       "        0.95880462],\n",
       "       [0.83360705, 0.82329193, 0.80989133, ..., 0.95713475, 0.95880462,\n",
       "        0.97261928],\n",
       "       [0.82329193, 0.80989133, 0.81588084, ..., 0.95880462, 0.97261928,\n",
       "        0.96308567]])"
      ]
     },
     "execution_count": 5,
     "metadata": {},
     "output_type": "execute_result"
    }
   ],
   "source": [
    "X_train"
   ]
  },
  {
   "cell_type": "code",
   "execution_count": 6,
   "metadata": {},
   "outputs": [
    {
     "data": {
      "text/plain": [
       "array([0.03979455, 0.03855025, 0.03814399, ..., 0.97261928, 0.96308567,\n",
       "       0.96773104])"
      ]
     },
     "execution_count": 6,
     "metadata": {},
     "output_type": "execute_result"
    }
   ],
   "source": [
    "y_train"
   ]
  },
  {
   "cell_type": "code",
   "execution_count": 7,
   "metadata": {},
   "outputs": [
    {
     "data": {
      "text/plain": [
       "(array([[[0.00637331],\n",
       "         [0.01150368],\n",
       "         [0.00973456],\n",
       "         ...,\n",
       "         [0.033776  ],\n",
       "         [0.03456326],\n",
       "         [0.03776281]],\n",
       " \n",
       "        [[0.01150368],\n",
       "         [0.00973456],\n",
       "         [0.01112449],\n",
       "         ...,\n",
       "         [0.03456326],\n",
       "         [0.03776281],\n",
       "         [0.03979455]],\n",
       " \n",
       "        [[0.00973456],\n",
       "         [0.01112449],\n",
       "         [0.01746783],\n",
       "         ...,\n",
       "         [0.03776281],\n",
       "         [0.03979455],\n",
       "         [0.03855025]],\n",
       " \n",
       "        ...,\n",
       " \n",
       "        [[0.8357245 ],\n",
       "         [0.83360705],\n",
       "         [0.82329193],\n",
       "         ...,\n",
       "         [0.95546478],\n",
       "         [0.95713475],\n",
       "         [0.95880462]],\n",
       " \n",
       "        [[0.83360705],\n",
       "         [0.82329193],\n",
       "         [0.80989133],\n",
       "         ...,\n",
       "         [0.95713475],\n",
       "         [0.95880462],\n",
       "         [0.97261928]],\n",
       " \n",
       "        [[0.82329193],\n",
       "         [0.80989133],\n",
       "         [0.81588084],\n",
       "         ...,\n",
       "         [0.95880462],\n",
       "         [0.97261928],\n",
       "         [0.96308567]]]),\n",
       " (2426, 60, 1))"
      ]
     },
     "execution_count": 7,
     "metadata": {},
     "output_type": "execute_result"
    }
   ],
   "source": [
    "# Reshaping to add new dimension to train data, the new dimension can be any \n",
    "# number of additional indicators but for now all we're using is the open price\n",
    "X_train = np.reshape(X_train, (X_train.shape[0], X_train.shape[1], 1))\n",
    "X_train, X_train.shape"
   ]
  },
  {
   "cell_type": "markdown",
   "metadata": {},
   "source": [
    "### Building the RNN"
   ]
  },
  {
   "cell_type": "code",
   "execution_count": 8,
   "metadata": {},
   "outputs": [
    {
     "name": "stderr",
     "output_type": "stream",
     "text": [
      "2023-09-12 15:53:54.410741: I tensorflow/core/platform/cpu_feature_guard.cc:182] This TensorFlow binary is optimized to use available CPU instructions in performance-critical operations.\n",
      "To enable the following instructions: AVX2 FMA, in other operations, rebuild TensorFlow with the appropriate compiler flags.\n"
     ]
    }
   ],
   "source": [
    "from keras.models import Sequential\n",
    "from keras.layers import Dense, LSTM, Dropout"
   ]
  },
  {
   "cell_type": "code",
   "execution_count": 9,
   "metadata": {},
   "outputs": [],
   "source": [
    "# Initialize the RNN\n",
    "rnn = Sequential()"
   ]
  },
  {
   "cell_type": "code",
   "execution_count": 10,
   "metadata": {},
   "outputs": [],
   "source": [
    "# Add the first LSTM layer with dropout regularization to prevent overfitting\n",
    "\n",
    "# units = # of neurons, need high dimensionality to capture upward/downward trends\n",
    "# return_sequences = True when there will be multiple LSTM layers\n",
    "rnn.add(LSTM(units=50, return_sequences=True, input_shape=(X_train.shape[1], 1)))\n",
    "rnn.add(Dropout(0.2)) # ignore 20% of neurons during each training iteration"
   ]
  },
  {
   "cell_type": "code",
   "execution_count": 11,
   "metadata": {},
   "outputs": [],
   "source": [
    "# Add second LSTM/Dropout layers\n",
    "rnn.add(LSTM(units=50, return_sequences=True))\n",
    "rnn.add(Dropout(0.2))\n",
    "\n",
    "# Add third LSTM/Dropout layers\n",
    "rnn.add(LSTM(units=50, return_sequences=True))\n",
    "rnn.add(Dropout(0.2))\n",
    "\n",
    "# Add fourth LSTM/Dropout layers\n",
    "rnn.add(LSTM(units=50))\n",
    "rnn.add(Dropout(0.2))"
   ]
  },
  {
   "cell_type": "code",
   "execution_count": 12,
   "metadata": {},
   "outputs": [],
   "source": [
    "# Add the output layer\n",
    "rnn.add(Dense(units=1))"
   ]
  },
  {
   "cell_type": "code",
   "execution_count": 13,
   "metadata": {},
   "outputs": [],
   "source": [
    "# Compile the RNN\n",
    "rnn.compile(optimizer=\"adam\", loss=\"mean_squared_error\")"
   ]
  },
  {
   "cell_type": "code",
   "execution_count": 14,
   "metadata": {},
   "outputs": [
    {
     "name": "stdout",
     "output_type": "stream",
     "text": [
      "Epoch 1/100\n",
      "76/76 [==============================] - 11s 58ms/step - loss: 0.0189\n",
      "Epoch 2/100\n",
      "76/76 [==============================] - 5s 59ms/step - loss: 0.0035\n",
      "Epoch 3/100\n",
      "76/76 [==============================] - 4s 57ms/step - loss: 0.0031\n",
      "Epoch 4/100\n",
      "76/76 [==============================] - 4s 53ms/step - loss: 0.0030\n",
      "Epoch 5/100\n",
      "76/76 [==============================] - 4s 52ms/step - loss: 0.0028\n",
      "Epoch 6/100\n",
      "76/76 [==============================] - 4s 52ms/step - loss: 0.0028\n",
      "Epoch 7/100\n",
      "76/76 [==============================] - 4s 53ms/step - loss: 0.0032\n",
      "Epoch 8/100\n",
      "76/76 [==============================] - 4s 52ms/step - loss: 0.0025\n",
      "Epoch 9/100\n",
      "76/76 [==============================] - 5s 62ms/step - loss: 0.0026\n",
      "Epoch 10/100\n",
      "76/76 [==============================] - 5s 62ms/step - loss: 0.0023\n",
      "Epoch 11/100\n",
      "76/76 [==============================] - 4s 54ms/step - loss: 0.0022\n",
      "Epoch 12/100\n",
      "76/76 [==============================] - 4s 55ms/step - loss: 0.0019\n",
      "Epoch 13/100\n",
      "76/76 [==============================] - 4s 55ms/step - loss: 0.0022\n",
      "Epoch 14/100\n",
      "76/76 [==============================] - 5s 67ms/step - loss: 0.0020\n",
      "Epoch 15/100\n",
      "76/76 [==============================] - 5s 66ms/step - loss: 0.0020\n",
      "Epoch 16/100\n",
      "76/76 [==============================] - 6s 76ms/step - loss: 0.0019\n",
      "Epoch 17/100\n",
      "76/76 [==============================] - 6s 78ms/step - loss: 0.0019\n",
      "Epoch 18/100\n",
      "76/76 [==============================] - 6s 75ms/step - loss: 0.0017\n",
      "Epoch 19/100\n",
      "76/76 [==============================] - 5s 70ms/step - loss: 0.0017\n",
      "Epoch 20/100\n",
      "76/76 [==============================] - 5s 62ms/step - loss: 0.0017\n",
      "Epoch 21/100\n",
      "76/76 [==============================] - 5s 63ms/step - loss: 0.0018\n",
      "Epoch 22/100\n",
      "76/76 [==============================] - 5s 63ms/step - loss: 0.0020\n",
      "Epoch 23/100\n",
      "76/76 [==============================] - 5s 66ms/step - loss: 0.0018\n",
      "Epoch 24/100\n",
      "76/76 [==============================] - 5s 60ms/step - loss: 0.0017\n",
      "Epoch 25/100\n",
      "76/76 [==============================] - 5s 62ms/step - loss: 0.0015\n",
      "Epoch 26/100\n",
      "76/76 [==============================] - 5s 63ms/step - loss: 0.0015\n",
      "Epoch 27/100\n",
      "76/76 [==============================] - 5s 64ms/step - loss: 0.0016\n",
      "Epoch 28/100\n",
      "76/76 [==============================] - 5s 72ms/step - loss: 0.0015\n",
      "Epoch 29/100\n",
      "76/76 [==============================] - 6s 79ms/step - loss: 0.0017\n",
      "Epoch 30/100\n",
      "76/76 [==============================] - 5s 71ms/step - loss: 0.0013\n",
      "Epoch 31/100\n",
      "76/76 [==============================] - 5s 67ms/step - loss: 0.0013\n",
      "Epoch 32/100\n",
      "76/76 [==============================] - 5s 66ms/step - loss: 0.0015\n",
      "Epoch 33/100\n",
      "76/76 [==============================] - 5s 64ms/step - loss: 0.0013\n",
      "Epoch 34/100\n",
      "76/76 [==============================] - 5s 64ms/step - loss: 0.0012\n",
      "Epoch 35/100\n",
      "76/76 [==============================] - 5s 66ms/step - loss: 0.0014\n",
      "Epoch 36/100\n",
      "76/76 [==============================] - 5s 67ms/step - loss: 0.0014\n",
      "Epoch 37/100\n",
      "76/76 [==============================] - 5s 64ms/step - loss: 0.0014\n",
      "Epoch 38/100\n",
      "76/76 [==============================] - 5s 61ms/step - loss: 0.0014\n",
      "Epoch 39/100\n",
      "76/76 [==============================] - 4s 59ms/step - loss: 0.0014\n",
      "Epoch 40/100\n",
      "76/76 [==============================] - 5s 59ms/step - loss: 0.0012\n",
      "Epoch 41/100\n",
      "76/76 [==============================] - 5s 63ms/step - loss: 0.0011\n",
      "Epoch 42/100\n",
      "76/76 [==============================] - 5s 61ms/step - loss: 0.0013\n",
      "Epoch 43/100\n",
      "76/76 [==============================] - 5s 60ms/step - loss: 0.0012\n",
      "Epoch 44/100\n",
      "76/76 [==============================] - 5s 62ms/step - loss: 0.0012\n",
      "Epoch 45/100\n",
      "76/76 [==============================] - 4s 58ms/step - loss: 0.0012\n",
      "Epoch 46/100\n",
      "76/76 [==============================] - 4s 57ms/step - loss: 0.0012\n",
      "Epoch 47/100\n",
      "76/76 [==============================] - 4s 57ms/step - loss: 0.0010\n",
      "Epoch 48/100\n",
      "76/76 [==============================] - 5s 65ms/step - loss: 0.0011\n",
      "Epoch 49/100\n",
      "76/76 [==============================] - 5s 65ms/step - loss: 0.0011\n",
      "Epoch 50/100\n",
      "76/76 [==============================] - 5s 61ms/step - loss: 0.0013\n",
      "Epoch 51/100\n",
      "76/76 [==============================] - 5s 63ms/step - loss: 0.0011\n",
      "Epoch 52/100\n",
      "76/76 [==============================] - 5s 68ms/step - loss: 0.0013\n",
      "Epoch 53/100\n",
      "76/76 [==============================] - 5s 62ms/step - loss: 0.0011\n",
      "Epoch 54/100\n",
      "76/76 [==============================] - 5s 62ms/step - loss: 9.8976e-04\n",
      "Epoch 55/100\n",
      "76/76 [==============================] - 6s 75ms/step - loss: 0.0010\n",
      "Epoch 56/100\n",
      "76/76 [==============================] - 5s 67ms/step - loss: 0.0010\n",
      "Epoch 57/100\n",
      "76/76 [==============================] - 5s 66ms/step - loss: 0.0010\n",
      "Epoch 58/100\n",
      "76/76 [==============================] - 5s 72ms/step - loss: 9.8540e-04\n",
      "Epoch 59/100\n",
      "76/76 [==============================] - 6s 74ms/step - loss: 9.9567e-04\n",
      "Epoch 60/100\n",
      "76/76 [==============================] - 5s 68ms/step - loss: 9.9990e-04\n",
      "Epoch 61/100\n",
      "76/76 [==============================] - 5s 72ms/step - loss: 0.0011\n",
      "Epoch 62/100\n",
      "76/76 [==============================] - 6s 73ms/step - loss: 0.0010\n",
      "Epoch 63/100\n",
      "76/76 [==============================] - 5s 68ms/step - loss: 0.0010\n",
      "Epoch 64/100\n",
      "76/76 [==============================] - 5s 64ms/step - loss: 9.2800e-04\n",
      "Epoch 65/100\n",
      "76/76 [==============================] - 5s 64ms/step - loss: 9.6795e-04\n",
      "Epoch 66/100\n",
      "76/76 [==============================] - 5s 66ms/step - loss: 0.0011\n",
      "Epoch 67/100\n",
      "76/76 [==============================] - 5s 65ms/step - loss: 0.0010\n",
      "Epoch 68/100\n",
      "76/76 [==============================] - 5s 69ms/step - loss: 0.0010\n",
      "Epoch 69/100\n",
      "76/76 [==============================] - 5s 64ms/step - loss: 9.9656e-04\n",
      "Epoch 70/100\n",
      "76/76 [==============================] - 5s 69ms/step - loss: 0.0010\n",
      "Epoch 71/100\n",
      "76/76 [==============================] - 6s 78ms/step - loss: 9.7779e-04\n",
      "Epoch 72/100\n",
      "76/76 [==============================] - 7s 86ms/step - loss: 0.0011\n",
      "Epoch 73/100\n",
      "76/76 [==============================] - 6s 78ms/step - loss: 9.5701e-04\n",
      "Epoch 74/100\n",
      "76/76 [==============================] - 6s 85ms/step - loss: 9.5528e-04\n",
      "Epoch 75/100\n",
      "76/76 [==============================] - 5s 71ms/step - loss: 9.1630e-04\n",
      "Epoch 76/100\n",
      "76/76 [==============================] - 5s 68ms/step - loss: 8.8786e-04\n",
      "Epoch 77/100\n",
      "76/76 [==============================] - 5s 68ms/step - loss: 0.0010\n",
      "Epoch 78/100\n",
      "76/76 [==============================] - 5s 71ms/step - loss: 9.3348e-04\n",
      "Epoch 79/100\n",
      "76/76 [==============================] - 5s 71ms/step - loss: 9.2427e-04\n",
      "Epoch 80/100\n",
      "76/76 [==============================] - 6s 81ms/step - loss: 9.1123e-04\n",
      "Epoch 81/100\n",
      "76/76 [==============================] - 6s 75ms/step - loss: 8.7872e-04\n",
      "Epoch 82/100\n",
      "76/76 [==============================] - 6s 75ms/step - loss: 9.0589e-04\n",
      "Epoch 83/100\n",
      "76/76 [==============================] - 6s 80ms/step - loss: 9.1042e-04\n",
      "Epoch 84/100\n",
      "76/76 [==============================] - 6s 83ms/step - loss: 9.4968e-04\n",
      "Epoch 85/100\n",
      "76/76 [==============================] - 6s 81ms/step - loss: 8.6522e-04\n",
      "Epoch 86/100\n",
      "76/76 [==============================] - 6s 81ms/step - loss: 9.2053e-04\n",
      "Epoch 87/100\n",
      "76/76 [==============================] - 6s 79ms/step - loss: 9.1082e-04\n",
      "Epoch 88/100\n",
      "76/76 [==============================] - 6s 75ms/step - loss: 7.9193e-04\n",
      "Epoch 89/100\n",
      "76/76 [==============================] - 6s 75ms/step - loss: 8.9551e-04\n",
      "Epoch 90/100\n",
      "76/76 [==============================] - 6s 76ms/step - loss: 8.7899e-04\n",
      "Epoch 91/100\n",
      "76/76 [==============================] - 6s 79ms/step - loss: 8.3255e-04\n",
      "Epoch 92/100\n",
      "76/76 [==============================] - 6s 85ms/step - loss: 9.8051e-04\n",
      "Epoch 93/100\n",
      "76/76 [==============================] - 6s 79ms/step - loss: 8.7265e-04\n",
      "Epoch 94/100\n",
      "76/76 [==============================] - 7s 86ms/step - loss: 9.1512e-04\n",
      "Epoch 95/100\n",
      "76/76 [==============================] - 6s 81ms/step - loss: 8.1025e-04\n",
      "Epoch 96/100\n",
      "76/76 [==============================] - 7s 90ms/step - loss: 8.7050e-04\n",
      "Epoch 97/100\n",
      "76/76 [==============================] - 7s 92ms/step - loss: 7.8629e-04\n",
      "Epoch 98/100\n",
      "76/76 [==============================] - 7s 91ms/step - loss: 8.0793e-04\n",
      "Epoch 99/100\n",
      "76/76 [==============================] - 8s 106ms/step - loss: 7.9900e-04\n",
      "Epoch 100/100\n",
      "76/76 [==============================] - 7s 98ms/step - loss: 8.4881e-04\n"
     ]
    },
    {
     "data": {
      "text/plain": [
       "<keras.src.callbacks.History at 0x13d126eb0>"
      ]
     },
     "execution_count": 14,
     "metadata": {},
     "output_type": "execute_result"
    }
   ],
   "source": [
    "# Fitting the RNN to the training set\n",
    "rnn.fit(X_train, y_train, epochs=100, batch_size=32)"
   ]
  },
  {
   "cell_type": "markdown",
   "metadata": {},
   "source": [
    "### Prediction and visualization"
   ]
  },
  {
   "cell_type": "code",
   "execution_count": 17,
   "metadata": {},
   "outputs": [],
   "source": [
    "# Save model to models directory\n",
    "model_path = join(dirname(dirname(abspath(curdir))), \"models\")\n",
    "rnn.save(join(model_path, \"rnn_spy_10y.keras\"))"
   ]
  },
  {
   "cell_type": "code",
   "execution_count": 15,
   "metadata": {},
   "outputs": [],
   "source": [
    "# Load test data\n",
    "dataset_test = pd.read_csv(join(datapath, \"spy_stock_prices_08-2023.csv\"))\n",
    "stock_open_prices = dataset_test.iloc[:, 1:2].values"
   ]
  },
  {
   "cell_type": "code",
   "execution_count": 20,
   "metadata": {},
   "outputs": [],
   "source": [
    "# Prepend the last 60 days of Open prices to test data\n",
    "# NOTE: Its important to ensure the test data isn't feature scaled with any already scaled training data\n",
    "# as this introduces data leaks and protential overfitting\n",
    "dataset_total = pd.concat((dataset_train.Open, dataset_test.Open), axis=0)\n",
    "inputs = dataset_total.iloc[len(dataset_total) - len(dataset_test) - 60:].values\n",
    "inputs = inputs.reshape(-1,1)\n",
    "inputs = sc.transform(inputs)"
   ]
  },
  {
   "cell_type": "code",
   "execution_count": 21,
   "metadata": {},
   "outputs": [],
   "source": [
    "X_test = []\n",
    "\n",
    "for i in range(60, inputs.size):\n",
    "    X_test.append(inputs[i-60:i, 0])\n",
    "X_test = np.array(X_test)\n",
    "X_test = np.reshape(X_test, (X_test.shape[0], X_test.shape[1], 1))"
   ]
  },
  {
   "cell_type": "code",
   "execution_count": 22,
   "metadata": {},
   "outputs": [
    {
     "name": "stdout",
     "output_type": "stream",
     "text": [
      "1/1 [==============================] - 1s 1s/step\n"
     ]
    }
   ],
   "source": [
    "pred = rnn.predict(X_test)\n",
    "predicted_stock_price = sc.inverse_transform(pred)"
   ]
  },
  {
   "cell_type": "code",
   "execution_count": 25,
   "metadata": {},
   "outputs": [
    {
     "data": {
      "image/png": "[encoded data removed]",
      "text/plain": [
       "<Figure size 640x480 with 1 Axes>"
      ]
     },
     "metadata": {},
     "output_type": "display_data"
    }
   ],
   "source": [
    "# Visualising the results\n",
    "plt.plot(stock_open_prices, color = 'red', label = 'Real Stock Price')\n",
    "plt.plot(predicted_stock_price, color = 'blue', label = 'Predicted Stock Price')\n",
    "plt.title('Stock Price Prediction')\n",
    "plt.xlabel('Time')\n",
    "plt.ylabel('Price ($)')\n",
    "plt.legend()\n",
    "plt.show()"
   ]
  },
  {
   "cell_type": "code",
   "execution_count": null,
   "metadata": {},
   "outputs": [],
   "source": []
  }
 ],
 "metadata": {
  "kernelspec": {
   "display_name": "machine-learning-py39",
   "language": "python",
   "name": "python3"
  },
  "language_info": {
   "codemirror_mode": {
    "name": "ipython",
    "version": 3
   },
   "file_extension": ".py",
   "mimetype": "text/x-python",
   "name": "python",
   "nbconvert_exporter": "python",
   "pygments_lexer": "ipython3",
   "version": "3.9.13"
  },
  "orig_nbformat": 4
 },
 "nbformat": 4,
 "nbformat_minor": 2
}
