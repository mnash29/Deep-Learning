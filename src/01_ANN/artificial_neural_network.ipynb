{
 "cells": [
  {
   "cell_type": "markdown",
   "metadata": {},
   "source": [
    "# Artificial Neural Networks (ANN)"
   ]
  },
  {
   "cell_type": "code",
   "execution_count": 15,
   "metadata": {},
   "outputs": [],
   "source": [
    "from os.path import dirname, abspath, join, curdir\n",
    "\n",
    "import numpy as np\n",
    "import pandas as pd\n",
    "import tensorflow as tf"
   ]
  },
  {
   "cell_type": "code",
   "execution_count": 16,
   "metadata": {},
   "outputs": [
    {
     "data": {
      "text/plain": [
       "'2.13.0'"
      ]
     },
     "execution_count": 16,
     "metadata": {},
     "output_type": "execute_result"
    }
   ],
   "source": [
    "tf.__version__"
   ]
  },
  {
   "cell_type": "code",
   "execution_count": 17,
   "metadata": {},
   "outputs": [
    {
     "data": {
      "text/plain": [
       "'/Users/a206568245/Projects/MachineLearning/deep-learning/data/raw/Churn_Modelling.csv'"
      ]
     },
     "execution_count": 17,
     "metadata": {},
     "output_type": "execute_result"
    }
   ],
   "source": [
    "datapath = join(dirname(dirname(abspath(curdir))), \n",
    "                        \"data\", \n",
    "                        \"raw\", \n",
    "                        \"Churn_Modelling.csv\")\n",
    "datapath"
   ]
  },
  {
   "cell_type": "code",
   "execution_count": 18,
   "metadata": {},
   "outputs": [],
   "source": [
    "dataset = pd.read_csv(datapath)\n",
    "X = dataset.iloc[:, 3:-1].values\n",
    "y = dataset.iloc[:, -1].values"
   ]
  },
  {
   "cell_type": "code",
   "execution_count": 19,
   "metadata": {},
   "outputs": [
    {
     "data": {
      "text/plain": [
       "(array([[619, 'France', 'Female', ..., 1, 1, 101348.88],\n",
       "        [608, 'Spain', 'Female', ..., 0, 1, 112542.58],\n",
       "        [502, 'France', 'Female', ..., 1, 0, 113931.57],\n",
       "        ...,\n",
       "        [709, 'France', 'Female', ..., 0, 1, 42085.58],\n",
       "        [772, 'Germany', 'Male', ..., 1, 0, 92888.52],\n",
       "        [792, 'France', 'Female', ..., 1, 0, 38190.78]], dtype=object),\n",
       " array([1, 0, 1, ..., 1, 1, 0]))"
      ]
     },
     "execution_count": 19,
     "metadata": {},
     "output_type": "execute_result"
    }
   ],
   "source": [
    "X, y"
   ]
  },
  {
   "cell_type": "markdown",
   "metadata": {},
   "source": [
    "### Encoding categorical data"
   ]
  },
  {
   "cell_type": "code",
   "execution_count": 20,
   "metadata": {},
   "outputs": [
    {
     "data": {
      "text/plain": [
       "array([[619, 'France', 0, ..., 1, 1, 101348.88],\n",
       "       [608, 'Spain', 0, ..., 0, 1, 112542.58],\n",
       "       [502, 'France', 0, ..., 1, 0, 113931.57],\n",
       "       ...,\n",
       "       [709, 'France', 0, ..., 0, 1, 42085.58],\n",
       "       [772, 'Germany', 1, ..., 1, 0, 92888.52],\n",
       "       [792, 'France', 0, ..., 1, 0, 38190.78]], dtype=object)"
      ]
     },
     "execution_count": 20,
     "metadata": {},
     "output_type": "execute_result"
    }
   ],
   "source": [
    "# Encode the gender data\n",
    "from sklearn.preprocessing import LabelEncoder\n",
    "\n",
    "le = LabelEncoder()\n",
    "X[:, 2] = le.fit_transform(X[:, 2]) \n",
    "X"
   ]
  },
  {
   "cell_type": "code",
   "execution_count": 21,
   "metadata": {},
   "outputs": [
    {
     "data": {
      "text/plain": [
       "array([[1.0, 0.0, 0.0, ..., 1, 1, 101348.88],\n",
       "       [0.0, 0.0, 1.0, ..., 0, 1, 112542.58],\n",
       "       [1.0, 0.0, 0.0, ..., 1, 0, 113931.57],\n",
       "       ...,\n",
       "       [1.0, 0.0, 0.0, ..., 0, 1, 42085.58],\n",
       "       [0.0, 1.0, 0.0, ..., 1, 0, 92888.52],\n",
       "       [1.0, 0.0, 0.0, ..., 1, 0, 38190.78]], dtype=object)"
      ]
     },
     "execution_count": 21,
     "metadata": {},
     "output_type": "execute_result"
    }
   ],
   "source": [
    "# Perform one-hot encoding on geographical data\n",
    "from sklearn.compose import ColumnTransformer\n",
    "from sklearn.preprocessing import OneHotEncoder\n",
    "\n",
    "ct = ColumnTransformer(transformers=[(\"encoder\", OneHotEncoder(), [1])], remainder=\"passthrough\")\n",
    "X = np.array(ct.fit_transform(X))\n",
    "X"
   ]
  },
  {
   "cell_type": "markdown",
   "metadata": {},
   "source": [
    "### Split dataset into test/train sets"
   ]
  },
  {
   "cell_type": "code",
   "execution_count": 22,
   "metadata": {},
   "outputs": [],
   "source": [
    "from sklearn.model_selection import train_test_split\n",
    "\n",
    "X_train, X_test, y_train, y_test = train_test_split(X, y, test_size=0.2, random_state=0)"
   ]
  },
  {
   "cell_type": "markdown",
   "metadata": {},
   "source": [
    "### Feature scaling"
   ]
  },
  {
   "cell_type": "code",
   "execution_count": 23,
   "metadata": {},
   "outputs": [
    {
     "data": {
      "text/plain": [
       "array([[-1.01460667, -0.5698444 ,  1.74309049, ...,  0.64259497,\n",
       "        -1.03227043,  1.10643166],\n",
       "       [-1.01460667,  1.75486502, -0.57369368, ...,  0.64259497,\n",
       "         0.9687384 , -0.74866447],\n",
       "       [ 0.98560362, -0.5698444 , -0.57369368, ...,  0.64259497,\n",
       "        -1.03227043,  1.48533467],\n",
       "       ...,\n",
       "       [ 0.98560362, -0.5698444 , -0.57369368, ...,  0.64259497,\n",
       "        -1.03227043,  1.41231994],\n",
       "       [-1.01460667, -0.5698444 ,  1.74309049, ...,  0.64259497,\n",
       "         0.9687384 ,  0.84432121],\n",
       "       [-1.01460667,  1.75486502, -0.57369368, ...,  0.64259497,\n",
       "        -1.03227043,  0.32472465]])"
      ]
     },
     "execution_count": 23,
     "metadata": {},
     "output_type": "execute_result"
    }
   ],
   "source": [
    "# Scale all columns by removing the mean and scaling to unit variance, z = (x - u) / s\n",
    "from sklearn.preprocessing import StandardScaler\n",
    "\n",
    "sc = StandardScaler()\n",
    "X_train = sc.fit_transform(X_train) # scales with mean and std, call on train set ONLY\n",
    "X_test = sc.transform(X_test) # call transform() since scalar has already been fit with train data\n",
    "X_train"
   ]
  },
  {
   "cell_type": "markdown",
   "metadata": {},
   "source": [
    "## Building the ANN"
   ]
  },
  {
   "cell_type": "code",
   "execution_count": 24,
   "metadata": {},
   "outputs": [],
   "source": [
    "from keras import Input\n",
    "from keras.models import Sequential\n",
    "from keras.layers import Dense\n",
    "\n",
    "# Initialize a Sequential model\n",
    "ann = Sequential()"
   ]
  },
  {
   "cell_type": "code",
   "execution_count": 25,
   "metadata": {},
   "outputs": [],
   "source": [
    "# Add the input layer and hidden layers\n",
    "ann.add(Input(shape=(12,))) # shape = number of feature columns\n",
    "ann.add(Dense(units=6, activation=\"relu\"))\n",
    "ann.add(Dense(units=6, activation=\"relu\"))"
   ]
  },
  {
   "cell_type": "code",
   "execution_count": 26,
   "metadata": {},
   "outputs": [],
   "source": [
    "# Add the output layer\n",
    "ann.add(Dense(units=1, activation=\"sigmoid\"))"
   ]
  },
  {
   "cell_type": "markdown",
   "metadata": {},
   "source": [
    "## Training the ANN"
   ]
  },
  {
   "cell_type": "code",
   "execution_count": 27,
   "metadata": {},
   "outputs": [],
   "source": [
    "# Compile the model\n",
    "ann.compile(optimizer=\"adam\", loss=\"binary_crossentropy\", metrics=[\"accuracy\"])"
   ]
  },
  {
   "cell_type": "code",
   "execution_count": 28,
   "metadata": {},
   "outputs": [
    {
     "name": "stdout",
     "output_type": "stream",
     "text": [
      "Epoch 1/100\n",
      "250/250 [==============================] - 1s 1ms/step - loss: 0.5315 - accuracy: 0.7900\n",
      "Epoch 2/100\n",
      "250/250 [==============================] - 0s 852us/step - loss: 0.4690 - accuracy: 0.7981\n",
      "Epoch 3/100\n",
      "250/250 [==============================] - 0s 814us/step - loss: 0.4423 - accuracy: 0.8084\n",
      "Epoch 4/100\n",
      "250/250 [==============================] - 0s 843us/step - loss: 0.4303 - accuracy: 0.8135\n",
      "Epoch 5/100\n",
      "250/250 [==============================] - 0s 824us/step - loss: 0.4224 - accuracy: 0.8173\n",
      "Epoch 6/100\n",
      "250/250 [==============================] - 0s 810us/step - loss: 0.4166 - accuracy: 0.8186\n",
      "Epoch 7/100\n",
      "250/250 [==============================] - 0s 832us/step - loss: 0.4110 - accuracy: 0.8191\n",
      "Epoch 8/100\n",
      "250/250 [==============================] - 0s 809us/step - loss: 0.4064 - accuracy: 0.8200\n",
      "Epoch 9/100\n",
      "250/250 [==============================] - 0s 898us/step - loss: 0.4018 - accuracy: 0.8230\n",
      "Epoch 10/100\n",
      "250/250 [==============================] - 0s 853us/step - loss: 0.3975 - accuracy: 0.8232\n",
      "Epoch 11/100\n",
      "250/250 [==============================] - 0s 824us/step - loss: 0.3935 - accuracy: 0.8259\n",
      "Epoch 12/100\n",
      "250/250 [==============================] - 0s 807us/step - loss: 0.3896 - accuracy: 0.8254\n",
      "Epoch 13/100\n",
      "250/250 [==============================] - 0s 818us/step - loss: 0.3855 - accuracy: 0.8285\n",
      "Epoch 14/100\n",
      "250/250 [==============================] - 0s 842us/step - loss: 0.3817 - accuracy: 0.8310\n",
      "Epoch 15/100\n",
      "250/250 [==============================] - 0s 836us/step - loss: 0.3781 - accuracy: 0.8386\n",
      "Epoch 16/100\n",
      "250/250 [==============================] - 0s 822us/step - loss: 0.3752 - accuracy: 0.8409\n",
      "Epoch 17/100\n",
      "250/250 [==============================] - 0s 832us/step - loss: 0.3728 - accuracy: 0.8439\n",
      "Epoch 18/100\n",
      "250/250 [==============================] - 0s 807us/step - loss: 0.3704 - accuracy: 0.8432\n",
      "Epoch 19/100\n",
      "250/250 [==============================] - 0s 828us/step - loss: 0.3683 - accuracy: 0.8449\n",
      "Epoch 20/100\n",
      "250/250 [==============================] - 0s 880us/step - loss: 0.3665 - accuracy: 0.8476\n",
      "Epoch 21/100\n",
      "250/250 [==============================] - 0s 806us/step - loss: 0.3654 - accuracy: 0.8484\n",
      "Epoch 22/100\n",
      "250/250 [==============================] - 0s 813us/step - loss: 0.3638 - accuracy: 0.8485\n",
      "Epoch 23/100\n",
      "250/250 [==============================] - 0s 847us/step - loss: 0.3631 - accuracy: 0.8487\n",
      "Epoch 24/100\n",
      "250/250 [==============================] - 0s 842us/step - loss: 0.3617 - accuracy: 0.8516\n",
      "Epoch 25/100\n",
      "250/250 [==============================] - 0s 811us/step - loss: 0.3611 - accuracy: 0.8505\n",
      "Epoch 26/100\n",
      "250/250 [==============================] - 0s 838us/step - loss: 0.3599 - accuracy: 0.8546\n",
      "Epoch 27/100\n",
      "250/250 [==============================] - 0s 824us/step - loss: 0.3587 - accuracy: 0.8545\n",
      "Epoch 28/100\n",
      "250/250 [==============================] - 0s 809us/step - loss: 0.3579 - accuracy: 0.8535\n",
      "Epoch 29/100\n",
      "250/250 [==============================] - 0s 811us/step - loss: 0.3571 - accuracy: 0.8543\n",
      "Epoch 30/100\n",
      "250/250 [==============================] - 0s 823us/step - loss: 0.3562 - accuracy: 0.8539\n",
      "Epoch 31/100\n",
      "250/250 [==============================] - 0s 822us/step - loss: 0.3554 - accuracy: 0.8539\n",
      "Epoch 32/100\n",
      "250/250 [==============================] - 0s 822us/step - loss: 0.3549 - accuracy: 0.8553\n",
      "Epoch 33/100\n",
      "250/250 [==============================] - 0s 813us/step - loss: 0.3538 - accuracy: 0.8579\n",
      "Epoch 34/100\n",
      "250/250 [==============================] - 0s 827us/step - loss: 0.3536 - accuracy: 0.8558\n",
      "Epoch 35/100\n",
      "250/250 [==============================] - 0s 808us/step - loss: 0.3525 - accuracy: 0.8572\n",
      "Epoch 36/100\n",
      "250/250 [==============================] - 0s 819us/step - loss: 0.3518 - accuracy: 0.8559\n",
      "Epoch 37/100\n",
      "250/250 [==============================] - 0s 824us/step - loss: 0.3518 - accuracy: 0.8585\n",
      "Epoch 38/100\n",
      "250/250 [==============================] - 0s 821us/step - loss: 0.3506 - accuracy: 0.8571\n",
      "Epoch 39/100\n",
      "250/250 [==============================] - 0s 855us/step - loss: 0.3503 - accuracy: 0.8555\n",
      "Epoch 40/100\n",
      "250/250 [==============================] - 0s 822us/step - loss: 0.3497 - accuracy: 0.8559\n",
      "Epoch 41/100\n",
      "250/250 [==============================] - 0s 835us/step - loss: 0.3497 - accuracy: 0.8575\n",
      "Epoch 42/100\n",
      "250/250 [==============================] - 0s 820us/step - loss: 0.3487 - accuracy: 0.8581\n",
      "Epoch 43/100\n",
      "250/250 [==============================] - 0s 825us/step - loss: 0.3484 - accuracy: 0.8591\n",
      "Epoch 44/100\n",
      "250/250 [==============================] - 0s 832us/step - loss: 0.3483 - accuracy: 0.8575\n",
      "Epoch 45/100\n",
      "250/250 [==============================] - 0s 819us/step - loss: 0.3473 - accuracy: 0.8560\n",
      "Epoch 46/100\n",
      "250/250 [==============================] - 0s 818us/step - loss: 0.3474 - accuracy: 0.8577\n",
      "Epoch 47/100\n",
      "250/250 [==============================] - 0s 821us/step - loss: 0.3475 - accuracy: 0.8590\n",
      "Epoch 48/100\n",
      "250/250 [==============================] - 0s 818us/step - loss: 0.3467 - accuracy: 0.8595\n",
      "Epoch 49/100\n",
      "250/250 [==============================] - 0s 809us/step - loss: 0.3464 - accuracy: 0.8590\n",
      "Epoch 50/100\n",
      "250/250 [==============================] - 0s 826us/step - loss: 0.3461 - accuracy: 0.8602\n",
      "Epoch 51/100\n",
      "250/250 [==============================] - 0s 820us/step - loss: 0.3461 - accuracy: 0.8584\n",
      "Epoch 52/100\n",
      "250/250 [==============================] - 0s 818us/step - loss: 0.3454 - accuracy: 0.8597\n",
      "Epoch 53/100\n",
      "250/250 [==============================] - 0s 820us/step - loss: 0.3452 - accuracy: 0.8593\n",
      "Epoch 54/100\n",
      "250/250 [==============================] - 0s 815us/step - loss: 0.3448 - accuracy: 0.8594\n",
      "Epoch 55/100\n",
      "250/250 [==============================] - 0s 814us/step - loss: 0.3443 - accuracy: 0.8590\n",
      "Epoch 56/100\n",
      "250/250 [==============================] - 0s 821us/step - loss: 0.3452 - accuracy: 0.8580\n",
      "Epoch 57/100\n",
      "250/250 [==============================] - 0s 815us/step - loss: 0.3443 - accuracy: 0.8590\n",
      "Epoch 58/100\n",
      "250/250 [==============================] - 0s 831us/step - loss: 0.3439 - accuracy: 0.8599\n",
      "Epoch 59/100\n",
      "250/250 [==============================] - 0s 856us/step - loss: 0.3441 - accuracy: 0.8599\n",
      "Epoch 60/100\n",
      "250/250 [==============================] - 0s 814us/step - loss: 0.3438 - accuracy: 0.8591\n",
      "Epoch 61/100\n",
      "250/250 [==============================] - 0s 826us/step - loss: 0.3435 - accuracy: 0.8581\n",
      "Epoch 62/100\n",
      "250/250 [==============================] - 0s 821us/step - loss: 0.3431 - accuracy: 0.8591\n",
      "Epoch 63/100\n",
      "250/250 [==============================] - 0s 935us/step - loss: 0.3433 - accuracy: 0.8596\n",
      "Epoch 64/100\n",
      "250/250 [==============================] - 0s 828us/step - loss: 0.3422 - accuracy: 0.8602\n",
      "Epoch 65/100\n",
      "250/250 [==============================] - 0s 865us/step - loss: 0.3429 - accuracy: 0.8589\n",
      "Epoch 66/100\n",
      "250/250 [==============================] - 0s 822us/step - loss: 0.3426 - accuracy: 0.8611\n",
      "Epoch 67/100\n",
      "250/250 [==============================] - 0s 826us/step - loss: 0.3422 - accuracy: 0.8608\n",
      "Epoch 68/100\n",
      "250/250 [==============================] - 0s 831us/step - loss: 0.3424 - accuracy: 0.8593\n",
      "Epoch 69/100\n",
      "250/250 [==============================] - 0s 805us/step - loss: 0.3420 - accuracy: 0.8601\n",
      "Epoch 70/100\n",
      "250/250 [==============================] - 0s 821us/step - loss: 0.3419 - accuracy: 0.8629\n",
      "Epoch 71/100\n",
      "250/250 [==============================] - 0s 818us/step - loss: 0.3417 - accuracy: 0.8608\n",
      "Epoch 72/100\n",
      "250/250 [==============================] - 0s 808us/step - loss: 0.3421 - accuracy: 0.8620\n",
      "Epoch 73/100\n",
      "250/250 [==============================] - 0s 817us/step - loss: 0.3411 - accuracy: 0.8610\n",
      "Epoch 74/100\n",
      "250/250 [==============================] - 0s 814us/step - loss: 0.3425 - accuracy: 0.8625\n",
      "Epoch 75/100\n",
      "250/250 [==============================] - 0s 813us/step - loss: 0.3417 - accuracy: 0.8610\n",
      "Epoch 76/100\n",
      "250/250 [==============================] - 0s 819us/step - loss: 0.3410 - accuracy: 0.8606\n",
      "Epoch 77/100\n",
      "250/250 [==============================] - 0s 815us/step - loss: 0.3412 - accuracy: 0.8618\n",
      "Epoch 78/100\n",
      "250/250 [==============================] - 0s 807us/step - loss: 0.3409 - accuracy: 0.8608\n",
      "Epoch 79/100\n",
      "250/250 [==============================] - 0s 824us/step - loss: 0.3409 - accuracy: 0.8622\n",
      "Epoch 80/100\n",
      "250/250 [==============================] - 0s 814us/step - loss: 0.3408 - accuracy: 0.8619\n",
      "Epoch 81/100\n",
      "250/250 [==============================] - 0s 851us/step - loss: 0.3410 - accuracy: 0.8619\n",
      "Epoch 82/100\n",
      "250/250 [==============================] - 0s 845us/step - loss: 0.3404 - accuracy: 0.8630\n",
      "Epoch 83/100\n",
      "250/250 [==============================] - 0s 824us/step - loss: 0.3402 - accuracy: 0.8618\n",
      "Epoch 84/100\n",
      "250/250 [==============================] - 0s 834us/step - loss: 0.3401 - accuracy: 0.8630\n",
      "Epoch 85/100\n",
      "250/250 [==============================] - 0s 828us/step - loss: 0.3410 - accuracy: 0.8606\n",
      "Epoch 86/100\n",
      "250/250 [==============================] - 0s 892us/step - loss: 0.3400 - accuracy: 0.8620\n",
      "Epoch 87/100\n",
      "250/250 [==============================] - 0s 825us/step - loss: 0.3401 - accuracy: 0.8625\n",
      "Epoch 88/100\n",
      "250/250 [==============================] - 0s 830us/step - loss: 0.3399 - accuracy: 0.8625\n",
      "Epoch 89/100\n",
      "250/250 [==============================] - 0s 810us/step - loss: 0.3406 - accuracy: 0.8618\n",
      "Epoch 90/100\n",
      "250/250 [==============================] - 0s 815us/step - loss: 0.3401 - accuracy: 0.8624\n",
      "Epoch 91/100\n",
      "250/250 [==============================] - 0s 818us/step - loss: 0.3400 - accuracy: 0.8626\n",
      "Epoch 92/100\n",
      "250/250 [==============================] - 0s 820us/step - loss: 0.3399 - accuracy: 0.8621\n",
      "Epoch 93/100\n",
      "250/250 [==============================] - 0s 808us/step - loss: 0.3396 - accuracy: 0.8615\n",
      "Epoch 94/100\n",
      "250/250 [==============================] - 0s 808us/step - loss: 0.3397 - accuracy: 0.8630\n",
      "Epoch 95/100\n",
      "250/250 [==============================] - 0s 819us/step - loss: 0.3394 - accuracy: 0.8627\n",
      "Epoch 96/100\n",
      "250/250 [==============================] - 0s 821us/step - loss: 0.3404 - accuracy: 0.8615\n",
      "Epoch 97/100\n",
      "250/250 [==============================] - 0s 821us/step - loss: 0.3395 - accuracy: 0.8637\n",
      "Epoch 98/100\n",
      "250/250 [==============================] - 0s 802us/step - loss: 0.3398 - accuracy: 0.8629\n",
      "Epoch 99/100\n",
      "250/250 [==============================] - 0s 811us/step - loss: 0.3404 - accuracy: 0.8610\n",
      "Epoch 100/100\n",
      "250/250 [==============================] - 0s 821us/step - loss: 0.3399 - accuracy: 0.8618\n"
     ]
    },
    {
     "data": {
      "text/plain": [
       "<keras.src.callbacks.History at 0x1adda0be0>"
      ]
     },
     "execution_count": 28,
     "metadata": {},
     "output_type": "execute_result"
    }
   ],
   "source": [
    "ann.fit(X_train, y_train, batch_size=32, epochs=100)"
   ]
  },
  {
   "cell_type": "code",
   "execution_count": 29,
   "metadata": {},
   "outputs": [
    {
     "name": "stdout",
     "output_type": "stream",
     "text": [
      "1/1 [==============================] - 0s 70ms/step\n"
     ]
    },
    {
     "data": {
      "text/plain": [
       "array([[False]])"
      ]
     },
     "execution_count": 29,
     "metadata": {},
     "output_type": "execute_result"
    }
   ],
   "source": [
    "test = [[1.0, 0.0, 0.0, 600, 1, 40, 3, 60000.0, 2, 1, 1, 50000.0]]\n",
    "pred = ann.predict(sc.transform(test))\n",
    "pred > 0.5"
   ]
  },
  {
   "cell_type": "code",
   "execution_count": 30,
   "metadata": {},
   "outputs": [
    {
     "name": "stdout",
     "output_type": "stream",
     "text": [
      "63/63 [==============================] - 0s 805us/step\n"
     ]
    },
    {
     "data": {
      "text/plain": [
       "array([[0, 0],\n",
       "       [0, 1],\n",
       "       [0, 0],\n",
       "       ...,\n",
       "       [0, 0],\n",
       "       [0, 0],\n",
       "       [0, 0]])"
      ]
     },
     "execution_count": 30,
     "metadata": {},
     "output_type": "execute_result"
    }
   ],
   "source": [
    "y_pred = ann.predict(X_test)\n",
    "y_pred = np.where(y_pred > 0.5, 1, 0)\n",
    "np.concatenate((y_pred.reshape(len(y_pred),1), y_test.reshape(len(y_test),1)),1)"
   ]
  },
  {
   "cell_type": "markdown",
   "metadata": {},
   "source": [
    "### Making the Confusion matrix"
   ]
  },
  {
   "cell_type": "code",
   "execution_count": 31,
   "metadata": {},
   "outputs": [
    {
     "data": {
      "text/plain": [
       "array([[1534,   61],\n",
       "       [ 210,  195]])"
      ]
     },
     "execution_count": 31,
     "metadata": {},
     "output_type": "execute_result"
    }
   ],
   "source": [
    "from sklearn.metrics import confusion_matrix, accuracy_score\n",
    "cm = confusion_matrix(y_test, y_pred)\n",
    "cm"
   ]
  },
  {
   "cell_type": "code",
   "execution_count": 32,
   "metadata": {},
   "outputs": [
    {
     "data": {
      "text/plain": [
       "0.8645"
      ]
     },
     "execution_count": 32,
     "metadata": {},
     "output_type": "execute_result"
    }
   ],
   "source": [
    "# Get accuracy score\n",
    "accuracy_score(y_test, y_pred)"
   ]
  }
 ],
 "metadata": {
  "kernelspec": {
   "display_name": "machine-learning",
   "language": "python",
   "name": "python3"
  },
  "language_info": {
   "codemirror_mode": {
    "name": "ipython",
    "version": 3
   },
   "file_extension": ".py",
   "mimetype": "text/x-python",
   "name": "python",
   "nbconvert_exporter": "python",
   "pygments_lexer": "ipython3",
   "version": "3.9.13"
  },
  "orig_nbformat": 4
 },
 "nbformat": 4,
 "nbformat_minor": 2
}
