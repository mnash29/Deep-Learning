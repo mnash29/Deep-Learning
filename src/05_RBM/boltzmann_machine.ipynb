{
 "cells": [
  {
   "cell_type": "markdown",
   "metadata": {},
   "source": [
    "# Boltzmann Machines"
   ]
  },
  {
   "cell_type": "markdown",
   "metadata": {},
   "source": [
    "<img src=\"img/67_blog_image_2.png\" width=\"800\" height=\"500\">\n",
    "\n",
    "* Use-case: Recommender Systems\n",
    "* Undirected and Unsupervised models\n",
    "  * Generative deep-learning\n",
    "  * No output layer \n",
    "  * Each visible node is something that we measure, e.g. each component of a power plant\n",
    "  * Each hidden layer is something we don't measure, e.g. wind speed, humidity <img src=\"img/67_blog_image_3.png\" width=\"500\" height=\"250\" >\n",
    "* Energy-based models (EBM)\n",
    "  * Uses the Boltzmann distribution formula <img src=\"img/boltzmann_dist.png\" width=\"100\" height=\"50\" >\n",
    "  * Systems tend to move towards their lowest energy state\n",
    "  * [A Tutorial on Energy-Based Learning](http://yan.lecuncom/exdb/publis/pdf/lecun-06.pdf)\n",
    "  * Mr. Nobody\n",
    "* Restricted Boltzmann Machine (RBM) <img src=\"img/restricted_boltzmann_machine.png\" height=\"500\" width=\"800\" >\n",
    "  * In/visible nodes cannot connect to each other\n",
    "  * Visible nodes can be different movies\n",
    "  * Hidden nodes can be features such as movie genre, actor, award, director, etc.\n",
    "* Contrastive Divergence\n",
    "  * Allows RBM's to learn through Gibb's sampling\n",
    "  * Iteratively updates the weights to minimize the energy in the system\n",
    "  * [A Fast Learning Algorithm for Deep Belief Nets](https://www.cs.toronto.edu/~hinton/absps/fastnc.pdf)\n",
    "* Deep Belief Networks (DBN)\n",
    "  * Stacked RBM's\n",
    "  * Greedy Layer-wise training\n",
    "  * Wake-Sleep algorithm\n",
    "  * Top two layers are undirected\n",
    "  * Bottom two layer connections flow downwards towards the inputs (directed)\n",
    "  * [Greedy Layer-Wise Training of Deep Networks](http://www.iro.umontreal.ca/~lisa/pointeurs/BengioNips2006all.pdf)\n",
    "* Deep Boltzmann Machines (DBM)\n",
    "  * Stacked RBM's but all connections remained undirected\n",
    "  * [Deep Boltzmann Machines](http://www.utstat.toronto.edu/~rsalakhu/dbm.pdf)"
   ]
  },
  {
   "cell_type": "code",
   "execution_count": 1,
   "metadata": {},
   "outputs": [],
   "source": [
    "from os.path import dirname, abspath, join, curdir\n",
    "\n",
    "import numpy as np\n",
    "import pandas as pd\n",
    "import torch\n",
    "import torch.nn as nn\n",
    "import torch.nn.parallel\n",
    "import torch.optim as optim\n",
    "import torch.utils.data\n",
    "\n",
    "from torch.autograd import Variable"
   ]
  },
  {
   "cell_type": "code",
   "execution_count": 8,
   "metadata": {},
   "outputs": [
    {
     "data": {
      "text/plain": [
       "((3883, 3), (6040, 5), (1000209, 4))"
      ]
     },
     "execution_count": 8,
     "metadata": {},
     "output_type": "execute_result"
    }
   ],
   "source": [
    "# Import the dataset\n",
    "datapath = join(dirname(dirname(abspath(curdir))), \"data\", \"raw\", \"rbm\")\n",
    "\n",
    "movies = pd.read_csv(join(datapath, \"movielens-1m\", \"movies.dat\"),\n",
    "                     sep=\"::\",\n",
    "                     header=None,\n",
    "                     engine=\"python\",\n",
    "                     encoding=\"latin-1\")\n",
    "\n",
    "users = pd.read_csv(join(datapath, \"movielens-1m\", \"users.dat\"),\n",
    "                    sep=\"::\",\n",
    "                    header=None,\n",
    "                    engine=\"python\",\n",
    "                    encoding=\"latin-1\")\n",
    "\n",
    "ratings = pd.read_csv(join(datapath, \"movielens-1m\", \"ratings.dat\"),\n",
    "                      sep=\"::\",\n",
    "                      header=None,\n",
    "                      engine=\"python\",\n",
    "                      encoding=\"latin-1\")\n",
    "\n",
    "movies.shape, users.shape, ratings.shape"
   ]
  },
  {
   "cell_type": "code",
   "execution_count": 15,
   "metadata": {},
   "outputs": [
    {
     "data": {
      "text/plain": [
       "((80000, 4), (20000, 4))"
      ]
     },
     "execution_count": 15,
     "metadata": {},
     "output_type": "execute_result"
    }
   ],
   "source": [
    "# Prepare training and test sets\n",
    "train_df = pd.read_csv(join(datapath, \"movielens-100k\", \"u1.base\"),\n",
    "                        sep=\"\\t\",\n",
    "                        header=None)\n",
    "\n",
    "train_set = np.array(train_df, dtype=\"int\")\n",
    "\n",
    "test_df = pd.read_csv(join(datapath, \"movielens-100k\", \"u1.test\"),\n",
    "                        sep=\"\\t\",\n",
    "                        header=None)\n",
    "\n",
    "test_set = np.array(test_df, dtype=\"int\")\n",
    "\n",
    "train_set.shape, test_set.shape"
   ]
  },
  {
   "cell_type": "code",
   "execution_count": null,
   "metadata": {},
   "outputs": [],
   "source": []
  }
 ],
 "metadata": {
  "kernelspec": {
   "display_name": "machine-learning-py39",
   "language": "python",
   "name": "python3"
  },
  "language_info": {
   "codemirror_mode": {
    "name": "ipython",
    "version": 3
   },
   "file_extension": ".py",
   "mimetype": "text/x-python",
   "name": "python",
   "nbconvert_exporter": "python",
   "pygments_lexer": "ipython3",
   "version": "3.9.13"
  },
  "orig_nbformat": 4
 },
 "nbformat": 4,
 "nbformat_minor": 2
}
